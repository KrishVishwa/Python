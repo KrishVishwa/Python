{
 "cells": [
  {
   "cell_type": "code",
   "execution_count": 9,
   "metadata": {},
   "outputs": [
    {
     "name": "stdout",
     "output_type": "stream",
     "text": [
      "enter a number5\n",
      "odd nuberz\n"
     ]
    }
   ],
   "source": [
    "#program to check odd or even number\n",
    "no=int(input(\"enter a number\"))\n",
    "\n",
    "if (no%2==0):\n",
    "    print(\"even numberz\")\n",
    "else:\n",
    "    print(\"odd nuberz\")\n",
    "    "
   ]
  },
  {
   "cell_type": "code",
   "execution_count": 25,
   "metadata": {},
   "outputs": [
    {
     "name": "stdout",
     "output_type": "stream",
     "text": [
      "enter a number:2\n",
      "positive number\n"
     ]
    }
   ],
   "source": [
    "#program to check positive negative number\n",
    "no=int(input(\"enter a number:\"))\n",
    "\n",
    "if(no>0):\n",
    "    print(\"positive number\")\n",
    "elif(no==0):\n",
    "    print(\"you entered zero\")\n",
    "    \n",
    "else:\n",
    "    print(\"negative number\")\n",
    "    \n",
    "    "
   ]
  },
  {
   "cell_type": "code",
   "execution_count": 27,
   "metadata": {},
   "outputs": [
    {
     "name": "stdout",
     "output_type": "stream",
     "text": [
      "enter your password:iphone12\n",
      "correct password\n"
     ]
    }
   ],
   "source": [
    "#program to check password\n",
    "\n",
    "pw=input(\"enter your password:\")\n",
    "\n",
    "if (pw==\"iphone12\"):\n",
    "    print(\"correct password\")\n",
    "else:\n",
    "    print(\"Wrong password\")\n",
    " "
   ]
  },
  {
   "cell_type": "code",
   "execution_count": null,
   "metadata": {},
   "outputs": [],
   "source": []
  }
 ],
 "metadata": {
  "kernelspec": {
   "display_name": "Python 3",
   "language": "python",
   "name": "python3"
  },
  "language_info": {
   "codemirror_mode": {
    "name": "ipython",
    "version": 3
   },
   "file_extension": ".py",
   "mimetype": "text/x-python",
   "name": "python",
   "nbconvert_exporter": "python",
   "pygments_lexer": "ipython3",
   "version": "3.8.3"
  }
 },
 "nbformat": 4,
 "nbformat_minor": 4
}
