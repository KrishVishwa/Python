{
 "cells": [
  {
   "cell_type": "code",
   "execution_count": 1,
   "metadata": {},
   "outputs": [
    {
     "name": "stdout",
     "output_type": "stream",
     "text": [
      "30\n"
     ]
    }
   ],
   "source": [
    "#addition program\n",
    "\n",
    "a=10\n",
    "b=20\n",
    "c=a+b\n",
    "print(c)"
   ]
  },
  {
   "cell_type": "code",
   "execution_count": 2,
   "metadata": {},
   "outputs": [
    {
     "name": "stdout",
     "output_type": "stream",
     "text": [
      "Enter A value = 23\n",
      "Enter B value = 3\n",
      "26\n"
     ]
    }
   ],
   "source": [
    "a=int(input(\"Enter A value = \"))\n",
    "b=int(input(\"Enter B value = \"))\n",
    "c=a+b\n",
    "print(c)\n",
    "\n",
    "      "
   ]
  },
  {
   "cell_type": "code",
   "execution_count": 3,
   "metadata": {},
   "outputs": [
    {
     "name": "stdout",
     "output_type": "stream",
     "text": [
      "Enter A VALUE=3\n",
      "Enter B value=3\n",
      "9\n"
     ]
    }
   ],
   "source": [
    "A=int(input(\"Enter A VALUE=\"))\n",
    "B=int(input(\"Enter B value=\"))\n",
    "c=A*B\n",
    "print(c)\n",
    "      \n",
    "      "
   ]
  },
  {
   "cell_type": "code",
   "execution_count": 11,
   "metadata": {},
   "outputs": [
    {
     "name": "stdout",
     "output_type": "stream",
     "text": [
      "Enter A VALUE=3\n",
      "Enter B value=4\n",
      "b is actually big hmm...\n"
     ]
    }
   ],
   "source": [
    "#this is example program for if statement\n",
    "\n",
    "a=int(input(\"Enter A VALUE=\"))\n",
    "b=int(input(\"Enter B value=\"))\n",
    "if(a>b):\n",
    "    print(\" a is big\")\n",
    "else:\n",
    "    print(\"b is actually big hmm...\")"
   ]
  },
  {
   "cell_type": "code",
   "execution_count": 15,
   "metadata": {},
   "outputs": [
    {
     "name": "stdout",
     "output_type": "stream",
     "text": [
      "Enter your age BRUH=12\n",
      "Stop thinking ur above 18😒, you cant vote,hehe\n"
     ]
    }
   ],
   "source": [
    "\"\"\"\n",
    "this a voting eligibility form!\n",
    "\"\"\"\n",
    "a=int(input(\"Enter your age BRUH=\"))\n",
    "if(a>18):\n",
    "    print(\"you are eligible to vote,proceed😉\")\n",
    "else:\n",
    "    print(\"Stop thinking ur above 18😒, you cant vote,hehe\")\n"
   ]
  },
  {
   "cell_type": "code",
   "execution_count": 21,
   "metadata": {},
   "outputs": [
    {
     "name": "stdout",
     "output_type": "stream",
     "text": [
      "stop using me to find out if the no. is odd or even use ur brain5\n",
      "i am odd,right😢\n"
     ]
    }
   ],
   "source": [
    "\"\"\"\n",
    "this is a odd,even finder😎\n",
    "\"\"\"\n",
    "a=int(input(\"stop using me to find out if the no. is odd or even use ur brain\"))\n",
    "if(a%2==0):\n",
    "    print(\"im even hehe\")\n",
    "else:\n",
    "    print(\"i am odd,right😢\")\n",
    "    "
   ]
  },
  {
   "cell_type": "code",
   "execution_count": null,
   "metadata": {},
   "outputs": [],
   "source": [
    "# variable = eng,mat,sci,mt\n",
    "\n",
    "average>=80 print A grade\n",
    "\n",
    "A grade = >80\n",
    "B grade >=70 \n",
    "c grade >=60\n"
   ]
  },
  {
   "cell_type": "code",
   "execution_count": 31,
   "metadata": {},
   "outputs": [
    {
     "name": "stdout",
     "output_type": "stream",
     "text": [
      "enter your english marks =90\n",
      "enter your math marks =90\n",
      "enter your science marks =90\n",
      "enter your mother tounge marks =90\n",
      "Total marks = 360\n",
      "average marks= 90.0\n",
      "A grade\n"
     ]
    }
   ],
   "source": [
    "\"\"\"\n",
    "eng,mat,sci,mt total,average finder\n",
    "\"\"\"\n",
    "eng=int(input(\"enter your english marks =\"))\n",
    "mat=int(input(\"enter your math marks =\"))\n",
    "sci=int(input(\"enter your science marks =\"))\n",
    "mt=int(input(\"enter your mother tounge marks =\"))\n",
    "total=(eng+mat+sci+mt)\n",
    "avg=(total/4)\n",
    "\n",
    "print(\"Total marks =\", total)\n",
    "print(\"average marks=\",avg)\n",
    "\n",
    "if (avg>=80):\n",
    "    print(\"A grade\")\n",
    "elif (avg >=70 or avg>=79):\n",
    "    print(\"B grade\")\n",
    "elif (avg>=60 or avg >=69):\n",
    "    print(\"C grade\")\n",
    "elif (avg>=50 or avg>=59):\n",
    "    print(\"D grade\")\n",
    "else:\n",
    "    print(\"You are failed\")\n",
    "\n"
   ]
  },
  {
   "cell_type": "code",
   "execution_count": null,
   "metadata": {},
   "outputs": [],
   "source": []
  }
 ],
 "metadata": {
  "kernelspec": {
   "display_name": "Python 3",
   "language": "python",
   "name": "python3"
  },
  "language_info": {
   "codemirror_mode": {
    "name": "ipython",
    "version": 3
   },
   "file_extension": ".py",
   "mimetype": "text/x-python",
   "name": "python",
   "nbconvert_exporter": "python",
   "pygments_lexer": "ipython3",
   "version": "3.8.3"
  }
 },
 "nbformat": 4,
 "nbformat_minor": 4
}
