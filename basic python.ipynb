{
 "cells": [
  {
   "cell_type": "code",
   "execution_count": 1,
   "id": "51188ab4",
   "metadata": {},
   "outputs": [
    {
     "name": "stdout",
     "output_type": "stream",
     "text": [
      "krish\n"
     ]
    }
   ],
   "source": [
    "print(\"krish\")"
   ]
  },
  {
   "cell_type": "code",
   "execution_count": 2,
   "id": "1ba549e9",
   "metadata": {},
   "outputs": [
    {
     "name": "stdout",
     "output_type": "stream",
     "text": [
      "124\n"
     ]
    }
   ],
   "source": [
    "a=123\n",
    "b=1\n",
    "c=a+b\n",
    "print(c)"
   ]
  },
  {
   "cell_type": "code",
   "execution_count": 9,
   "id": "0dddde8b",
   "metadata": {},
   "outputs": [
    {
     "name": "stdout",
     "output_type": "stream",
     "text": [
      "Enter A value:1234\n",
      "Enter B value:1\n",
      "the addition of A andB = 1235\n"
     ]
    }
   ],
   "source": [
    "#get interactive input a and b and add to c\n",
    "a=int(input(\"Enter A value:\"))\n",
    "b=int(input(\"Enter B value:\"))\n",
    "c=a+b\n",
    "print(\"the addition of A andB =\",c)"
   ]
  },
  {
   "cell_type": "code",
   "execution_count": 15,
   "id": "8089ccc6",
   "metadata": {},
   "outputs": [
    {
     "name": "stdout",
     "output_type": "stream",
     "text": [
      "Enter A value:1\n",
      "Enter B value:2000000\n",
      "B is now the biggest\n"
     ]
    }
   ],
   "source": [
    "#IF CONDITION TO CHECK A GREATER THAN B\n",
    "\n",
    "a=int(input(\"Enter A value:\"))\n",
    "b=int(input(\"Enter B value:\"))\n",
    "if a>b:\n",
    "    print(\"A is officially biggest\")\n",
    "else:\n",
    "    print(\"B is now the biggest\")"
   ]
  },
  {
   "cell_type": "code",
   "execution_count": 17,
   "id": "8ac82a55",
   "metadata": {},
   "outputs": [
    {
     "name": "stdout",
     "output_type": "stream",
     "text": [
      "enter your age:22\n",
      "Yay,you can vote at JuronEast!   :)\n"
     ]
    }
   ],
   "source": [
    "#voting eligiblity\n",
    "a=int(input(\"enter your age:\"))\n",
    "if a<21:\n",
    "    print(\"You cannot vote!hehe >:)  \")\n",
    "else:\n",
    "    print(\"Yay,you can vote at JuronEast!   :)\")"
   ]
  },
  {
   "cell_type": "code",
   "execution_count": 16,
   "id": "3a43a000",
   "metadata": {},
   "outputs": [
    {
     "name": "stdout",
     "output_type": "stream",
     "text": [
      "Enter your PSLE English marks:100\n",
      "Enter your PSLE Science marks:100\n",
      "Enter your PSLE Math marks:100\n",
      "Enter your PSLE Mother tongue marks:100\n",
      "A grade.GOOD JOB. :)\n"
     ]
    }
   ],
   "source": [
    "#get Eng,sci,mat,mt marks and calc total,avg,find grade\n",
    "\n",
    "eng=int(input(\"Enter your PSLE English marks:\"))\n",
    "sci=int(input(\"Enter your PSLE Science marks:\"))\n",
    "mat=int(input(\"Enter your PSLE Math marks:\"))\n",
    "mt=int(input(\"Enter your PSLE Mother tongue marks:\"))\n",
    "tot=eng+sci+mat+mt\n",
    "avg=tot/4\n",
    "if avg>=80:\n",
    "    print(\"A grade.GOOD JOB. :)\")\n",
    "elif (avg>=70) & (avg>=79):\n",
    "    print(\"GRADE B.  You can do this!never give up :)\")\n",
    "elif (avg>=60) & (avg<69):\n",
    "    print(\"GRADE C.AWW.TRY HARDER.UwU\")\n",
    "elif (avg>=50) & (avg<59):\n",
    "    print(\"GRADE D.You will improve :)\")\n",
    "else:\n",
    "    print(\"FAILURE.Hehe\")\n"
   ]
  },
  {
   "cell_type": "code",
   "execution_count": null,
   "id": "496a60ea",
   "metadata": {},
   "outputs": [],
   "source": []
  }
 ],
 "metadata": {
  "kernelspec": {
   "display_name": "Python 3 (ipykernel)",
   "language": "python",
   "name": "python3"
  },
  "language_info": {
   "codemirror_mode": {
    "name": "ipython",
    "version": 3
   },
   "file_extension": ".py",
   "mimetype": "text/x-python",
   "name": "python",
   "nbconvert_exporter": "python",
   "pygments_lexer": "ipython3",
   "version": "3.8.17"
  }
 },
 "nbformat": 4,
 "nbformat_minor": 5
}
