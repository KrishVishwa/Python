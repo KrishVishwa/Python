{
 "cells": [
  {
   "cell_type": "code",
   "execution_count": 4,
   "id": "8e5f1c53-534d-4da2-a0fa-0a1b499a6800",
   "metadata": {},
   "outputs": [
    {
     "name": "stdout",
     "output_type": "stream",
     "text": [
      "10\n"
     ]
    }
   ],
   "source": [
    "#len of str\n",
    "str1=\"I am happy\"\n",
    "print(len(str1))"
   ]
  },
  {
   "cell_type": "code",
   "execution_count": 5,
   "id": "8ad0345a-e351-406e-8065-8395a6f994e8",
   "metadata": {},
   "outputs": [
    {
     "name": "stdout",
     "output_type": "stream",
     "text": [
      "I AM HAPPY\n"
     ]
    }
   ],
   "source": [
    "#convert string to uppercase\n",
    "str1=\"I am happy\"\n",
    "print(str1.upper())\n"
   ]
  },
  {
   "cell_type": "code",
   "execution_count": 10,
   "id": "fafe1d99-ad7e-42e2-be6b-43443d60236e",
   "metadata": {},
   "outputs": [
    {
     "name": "stdout",
     "output_type": "stream",
     "text": [
      "True\n"
     ]
    }
   ],
   "source": [
    "#Check if substring exists within a string\n",
    "str1=\"Hello world\"\n",
    "sub_str1=\"world\"\n",
    "print(sub_str1 in str1)\n"
   ]
  },
  {
   "cell_type": "code",
   "execution_count": 12,
   "id": "fa2c0438-e0b3-4977-add7-488de10d6c00",
   "metadata": {},
   "outputs": [
    {
     "name": "stdout",
     "output_type": "stream",
     "text": [
      "['hello', 'world']\n"
     ]
    }
   ],
   "source": [
    "#split string into list of words\n",
    "str1=\"hello world\"\n",
    "print(str1.split())"
   ]
  },
  {
   "cell_type": "code",
   "execution_count": 23,
   "id": "260dc980-3ca8-4d21-a5b8-c46c4f3ed6d4",
   "metadata": {},
   "outputs": [
    {
     "name": "stdout",
     "output_type": "stream",
     "text": [
      "Alice : 25\n",
      "Bob : 30\n",
      "Ken : 35\n"
     ]
    }
   ],
   "source": [
    "name=[\"Alice\",\"Bob\",\"Ken\"]\n",
    "age=[25,30,35]\n",
    "for i,j in zip(name,age):\n",
    "    print(i,\":\",j)"
   ]
  },
  {
   "cell_type": "code",
   "execution_count": null,
   "id": "47c8e37d-f21a-497c-8949-f157c6cb3480",
   "metadata": {},
   "outputs": [],
   "source": []
  }
 ],
 "metadata": {
  "kernelspec": {
   "display_name": "Python 3 (ipykernel)",
   "language": "python",
   "name": "python3"
  },
  "language_info": {
   "codemirror_mode": {
    "name": "ipython",
    "version": 3
   },
   "file_extension": ".py",
   "mimetype": "text/x-python",
   "name": "python",
   "nbconvert_exporter": "python",
   "pygments_lexer": "ipython3",
   "version": "3.11.7"
  }
 },
 "nbformat": 4,
 "nbformat_minor": 5
}
