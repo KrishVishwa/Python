{
 "cells": [
  {
   "cell_type": "code",
   "execution_count": 31,
   "id": "415d7244",
   "metadata": {},
   "outputs": [
    {
     "name": "stdout",
     "output_type": "stream",
     "text": [
      "6000\n"
     ]
    }
   ],
   "source": [
    "#add all values in a dictionary\n",
    "x=1\n",
    "stu={\"m1\":10,\"m2\":20,\"m3\":30}\n",
    "for i in stu.values():\n",
    "    x=x*i\n",
    "print(x)"
   ]
  },
  {
   "cell_type": "code",
   "execution_count": 41,
   "id": "3cc528bb",
   "metadata": {},
   "outputs": [
    {
     "data": {
      "text/plain": [
       "{'m1': 10, 'm2': 20, 'm3': 30, 'm21': 29, 'm22': 40, 'm23': 50}"
      ]
     },
     "execution_count": 41,
     "metadata": {},
     "output_type": "execute_result"
    }
   ],
   "source": [
    "# merge 2 dictionaries\n",
    "dict1={\"m1\": 10,\"m2\": 20,\"m3\": 30}\n",
    "dict2={\"m21\": 29,\"m22\": 40, \"m23\": 50}\n",
    "dict1.update(dict2)\n",
    "dict1"
   ]
  },
  {
   "cell_type": "code",
   "execution_count": 43,
   "id": "c8c08ea7",
   "metadata": {},
   "outputs": [
    {
     "name": "stdout",
     "output_type": "stream",
     "text": [
      "78\n"
     ]
    }
   ],
   "source": [
    "#from the nested dictionary print key arabic\n",
    "d1={\n",
    "\"class\":{\n",
    "    \"name\":\"Krish\",\n",
    "    \"marks\":{\n",
    "        \"arabic\":78,\n",
    "        \"gujurathi\":90\n",
    "    \n",
    "    }\n",
    "}    \n",
    "   }\n",
    "print(d1[\"class\"][\"marks\"][\"arabic\"])"
   ]
  },
  {
   "cell_type": "code",
   "execution_count": null,
   "id": "85795bda",
   "metadata": {},
   "outputs": [],
   "source": []
  }
 ],
 "metadata": {
  "kernelspec": {
   "display_name": "Python 3 (ipykernel)",
   "language": "python",
   "name": "python3"
  },
  "language_info": {
   "codemirror_mode": {
    "name": "ipython",
    "version": 3
   },
   "file_extension": ".py",
   "mimetype": "text/x-python",
   "name": "python",
   "nbconvert_exporter": "python",
   "pygments_lexer": "ipython3",
   "version": "3.8.17"
  }
 },
 "nbformat": 4,
 "nbformat_minor": 5
}
