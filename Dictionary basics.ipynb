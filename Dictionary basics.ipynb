{
 "cells": [
  {
   "cell_type": "code",
   "execution_count": 4,
   "id": "583ddfa4",
   "metadata": {},
   "outputs": [
    {
     "data": {
      "text/plain": [
       "{1: 10, 2: 20, 3: 30, 4: 40, 5: 50, 6: 60}"
      ]
     },
     "execution_count": 4,
     "metadata": {},
     "output_type": "execute_result"
    }
   ],
   "source": [
    "#concatenate 3 dictionaries into 1\n",
    "dict1={1:10,2:20}\n",
    "dict2={3:30,4:40}\n",
    "dict3={5:50,6:60}\n",
    "dict4={}\n",
    "\n",
    "for i in (dict1,dict2,dict3):\n",
    "    dict4.update(i)\n",
    "dict4"
   ]
  },
  {
   "cell_type": "code",
   "execution_count": 14,
   "id": "024ad5c5",
   "metadata": {},
   "outputs": [
    {
     "name": "stdout",
     "output_type": "stream",
     "text": [
      "[3, 10, 18, 43]\n"
     ]
    }
   ],
   "source": [
    "#sort list items in ascending order\n",
    "lst1=[18,10,43,3]\n",
    "lst1.sort()\n",
    "print(lst1)"
   ]
  },
  {
   "cell_type": "code",
   "execution_count": 16,
   "id": "b3bf2e19",
   "metadata": {},
   "outputs": [
    {
     "name": "stdout",
     "output_type": "stream",
     "text": [
      "Enter the key you would like to check:12\n",
      "key is not present in dictionary\n"
     ]
    }
   ],
   "source": [
    "#write a python program to find weather a given key exists in a dictionary\n",
    "d={1:10,2:20,3:30,4:40,5:50,6:60}\n",
    "a=int(input(\"Enter the key you would like to check:\"))\n",
    "if a in d:\n",
    "    print(\"Key is present in dictionary\")\n",
    "else:\n",
    "    print(\"key is not present in dictionary\")"
   ]
  },
  {
   "cell_type": "code",
   "execution_count": 17,
   "id": "b866f431",
   "metadata": {},
   "outputs": [
    {
     "name": "stdout",
     "output_type": "stream",
     "text": [
      "600\n"
     ]
    }
   ],
   "source": [
    "# add all values in the dictionary\n",
    "\n",
    "dict1={\"data1\":100, \"data2\":200, \"data3\":300}\n",
    "print(sum(dict1.values()))"
   ]
  },
  {
   "cell_type": "code",
   "execution_count": 18,
   "id": "804e7d8b",
   "metadata": {},
   "outputs": [
    {
     "name": "stdout",
     "output_type": "stream",
     "text": [
      "dict_keys(['data1', 'data2', 'data3'])\n"
     ]
    }
   ],
   "source": [
    "print(dict1.keys())"
   ]
  },
  {
   "cell_type": "code",
   "execution_count": null,
   "id": "a62880fd",
   "metadata": {},
   "outputs": [],
   "source": []
  }
 ],
 "metadata": {
  "kernelspec": {
   "display_name": "Python 3 (ipykernel)",
   "language": "python",
   "name": "python3"
  },
  "language_info": {
   "codemirror_mode": {
    "name": "ipython",
    "version": 3
   },
   "file_extension": ".py",
   "mimetype": "text/x-python",
   "name": "python",
   "nbconvert_exporter": "python",
   "pygments_lexer": "ipython3",
   "version": "3.8.17"
  }
 },
 "nbformat": 4,
 "nbformat_minor": 5
}
