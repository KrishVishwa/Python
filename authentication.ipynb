{
 "cells": [
  {
   "cell_type": "code",
   "execution_count": 1,
   "id": "57d8f601",
   "metadata": {},
   "outputs": [
    {
     "data": {
      "text/plain": [
       "'\\nif expression1:\\n    statements\\n    if expression2:\\n        statements\\n    else\\n        statement\\nelse\\n    statements\\n'"
      ]
     },
     "execution_count": 1,
     "metadata": {},
     "output_type": "execute_result"
    }
   ],
   "source": [
    "\"\"\"\n",
    "if expression1:\n",
    "    statements\n",
    "    if expression2:\n",
    "        statements\n",
    "    else\n",
    "        statement\n",
    "else\n",
    "    statements\n",
    "\"\"\""
   ]
  },
  {
   "cell_type": "code",
   "execution_count": 10,
   "id": "cf830efb",
   "metadata": {},
   "outputs": [
    {
     "name": "stdout",
     "output_type": "stream",
     "text": [
      "Enter your name:jhoanthn\n",
      "Enter your email:jhonathn@yahoo.com\n",
      "Enter your password:hiiamjhonathn\n",
      "Registration successful!\n"
     ]
    }
   ],
   "source": [
    "#email password validation\n",
    "#get name, email & pw\n",
    "name=input(\"Enter your name:\")\n",
    "email=input(\"Enter your email:\")\n",
    "password=input(\"Enter your password:\")\n",
    "\n",
    "if name==\"\":\n",
    "    print(\"Name cannot be empty\")\n",
    "else:\n",
    "    if \"@\" not in email:\n",
    "        print(\"Invalid e-mail adress\")\n",
    "    else:\n",
    "        if len(password)<10:\n",
    "            print(\"Password must be at least 10 characters\")\n",
    "        else:\n",
    "            print(\"Registration successful!\")"
   ]
  },
  {
   "cell_type": "code",
   "execution_count": 15,
   "id": "fc90326e",
   "metadata": {},
   "outputs": [
    {
     "name": "stdout",
     "output_type": "stream",
     "text": [
      "Please enter your username:admin\n",
      "Please enter your password:password\n",
      "login successful\n"
     ]
    }
   ],
   "source": [
    "#authentication. username=admin, passowrd=pass1234\n",
    "username=input(\"Please enter your username:\")\n",
    "pw=input(\"Please enter your password:\")\n",
    "if username == \"admin\":\n",
    "    if pw == \"password\":\n",
    "        print(\"login successful\")\n",
    "    else:\n",
    "        print(\"Invalid password\")\n",
    "else:\n",
    "    print(\"Invalid username\")"
   ]
  },
  {
   "cell_type": "code",
   "execution_count": null,
   "id": "c7a67f60",
   "metadata": {},
   "outputs": [],
   "source": []
  }
 ],
 "metadata": {
  "kernelspec": {
   "display_name": "Python 3 (ipykernel)",
   "language": "python",
   "name": "python3"
  },
  "language_info": {
   "codemirror_mode": {
    "name": "ipython",
    "version": 3
   },
   "file_extension": ".py",
   "mimetype": "text/x-python",
   "name": "python",
   "nbconvert_exporter": "python",
   "pygments_lexer": "ipython3",
   "version": "3.8.17"
  }
 },
 "nbformat": 4,
 "nbformat_minor": 5
}
