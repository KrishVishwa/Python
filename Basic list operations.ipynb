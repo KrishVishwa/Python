{
 "cells": [
  {
   "cell_type": "markdown",
   "id": "42a07bdd",
   "metadata": {},
   "source": [
    "# looping list elements\n"
   ]
  },
  {
   "cell_type": "code",
   "execution_count": 1,
   "id": "37b77e98",
   "metadata": {},
   "outputs": [
    {
     "name": "stdout",
     "output_type": "stream",
     "text": [
      "10\n",
      "20\n",
      "30\n"
     ]
    }
   ],
   "source": [
    "lst1=[10,20,30]\n",
    "for i in lst1:\n",
    "    print(i)"
   ]
  },
  {
   "cell_type": "markdown",
   "id": "75d7fdc1",
   "metadata": {},
   "source": [
    "# adding list elements"
   ]
  },
  {
   "cell_type": "code",
   "execution_count": 10,
   "id": "66084d6d",
   "metadata": {},
   "outputs": [
    {
     "name": "stdout",
     "output_type": "stream",
     "text": [
      "24\n"
     ]
    }
   ],
   "source": [
    "lst2=[10,2,3,4,5]\n",
    "count=0\n",
    "for i in lst2:\n",
    "    count=count+i\n",
    "print(count)"
   ]
  },
  {
   "cell_type": "markdown",
   "id": "b9608052",
   "metadata": {},
   "source": [
    "# multiply list elements"
   ]
  },
  {
   "cell_type": "code",
   "execution_count": 11,
   "id": "6d49dcde",
   "metadata": {},
   "outputs": [
    {
     "name": "stdout",
     "output_type": "stream",
     "text": [
      "120\n"
     ]
    }
   ],
   "source": [
    "lst3=[1,2,3,4,5]\n",
    "count=1\n",
    "for i in lst3:\n",
    "    count=count*i\n",
    "print(count)"
   ]
  },
  {
   "cell_type": "markdown",
   "id": "81b358df",
   "metadata": {},
   "source": [
    "# finding largest number from a list"
   ]
  },
  {
   "cell_type": "code",
   "execution_count": 10,
   "id": "b391e2b2",
   "metadata": {},
   "outputs": [
    {
     "name": "stdout",
     "output_type": "stream",
     "text": [
      "The biggest number is: 12\n"
     ]
    }
   ],
   "source": [
    "num=[1,7,4,9,12]\n",
    "big=num[0]\n",
    "\n",
    "for i in num[1:]:\n",
    "    if i>big:\n",
    "        big=i\n",
    "print(\"The biggest number is:\",big)"
   ]
  },
  {
   "cell_type": "markdown",
   "id": "eed515a2",
   "metadata": {},
   "source": [
    "# finding smallest no. from a list"
   ]
  },
  {
   "cell_type": "code",
   "execution_count": 2,
   "id": "158d4452",
   "metadata": {},
   "outputs": [
    {
     "name": "stdout",
     "output_type": "stream",
     "text": [
      "The smallest no is: 2\n"
     ]
    }
   ],
   "source": [
    "num=[2,6,3,9,10]\n",
    "small=num[0]\n",
    "\n",
    "for i in num[1:]:\n",
    "    if i<small:\n",
    "        small=i\n",
    "print(\"The smallest no is:\",small)"
   ]
  },
  {
   "cell_type": "code",
   "execution_count": 3,
   "id": "eaac0044",
   "metadata": {},
   "outputs": [
    {
     "name": "stdout",
     "output_type": "stream",
     "text": [
      "This list is not empty\n"
     ]
    }
   ],
   "source": [
    "#check if given list is empty or not\n",
    "lst1=[1,2,3]\n",
    "if len(lst1)==0:\n",
    "    print(\"This list is empty\")\n",
    "else:\n",
    "    print(\"This list is not empty\")\n"
   ]
  },
  {
   "cell_type": "code",
   "execution_count": null,
   "id": "5dc0ccfe",
   "metadata": {},
   "outputs": [],
   "source": [
    "#enter length of list\n",
    "n=int(input(\"enter list size:\"))\n",
    "\n",
    "#getting list items\n",
    "x=[]\n",
    "\n",
    "for i in range(n):\n",
    "    item=input(\"enter item:\")\n",
    "    x.append(item)\n",
    "\n",
    "\n",
    "if len(x)==0:\n",
    "    print(\"This list is empty\")\n",
    "else:\n",
    "    print(\"This list is not empty\")\n"
   ]
  },
  {
   "cell_type": "code",
   "execution_count": null,
   "id": "b0d242b9",
   "metadata": {},
   "outputs": [],
   "source": []
  }
 ],
 "metadata": {
  "kernelspec": {
   "display_name": "Python 3 (ipykernel)",
   "language": "python",
   "name": "python3"
  },
  "language_info": {
   "codemirror_mode": {
    "name": "ipython",
    "version": 3
   },
   "file_extension": ".py",
   "mimetype": "text/x-python",
   "name": "python",
   "nbconvert_exporter": "python",
   "pygments_lexer": "ipython3",
   "version": "3.8.17"
  }
 },
 "nbformat": 4,
 "nbformat_minor": 5
}
